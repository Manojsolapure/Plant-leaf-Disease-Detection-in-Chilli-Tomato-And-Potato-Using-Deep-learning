{
 "cells": [
  {
   "cell_type": "code",
   "execution_count": null,
   "id": "72db7032",
   "metadata": {},
   "outputs": [],
   "source": []
  },
  {
   "cell_type": "code",
   "execution_count": 1,
   "id": "8e06ed58",
   "metadata": {},
   "outputs": [
    {
     "name": "stderr",
     "output_type": "stream",
     "text": [
      "WARNING:absl:Compiled the loaded model, but the compiled metrics have yet to be built. `model.compile_metrics` will be empty until you train or evaluate the model.\n",
      "WARNING:absl:Compiled the loaded model, but the compiled metrics have yet to be built. `model.compile_metrics` will be empty until you train or evaluate the model.\n",
      "WARNING:absl:Compiled the loaded model, but the compiled metrics have yet to be built. `model.compile_metrics` will be empty until you train or evaluate the model.\n",
      "WARNING:absl:Compiled the loaded model, but the compiled metrics have yet to be built. `model.compile_metrics` will be empty until you train or evaluate the model.\n"
     ]
    },
    {
     "name": "stdout",
     "output_type": "stream",
     "text": [
      "\u001b[1m1/1\u001b[0m \u001b[32m━━━━━━━━━━━━━━━━━━━━\u001b[0m\u001b[37m\u001b[0m \u001b[1m0s\u001b[0m 221ms/step\n",
      "\u001b[1m1/1\u001b[0m \u001b[32m━━━━━━━━━━━━━━━━━━━━\u001b[0m\u001b[37m\u001b[0m \u001b[1m1s\u001b[0m 852ms/step\n",
      "\u001b[1m1/1\u001b[0m \u001b[32m━━━━━━━━━━━━━━━━━━━━\u001b[0m\u001b[37m\u001b[0m \u001b[1m1s\u001b[0m 1s/step\n",
      "\u001b[1m1/1\u001b[0m \u001b[32m━━━━━━━━━━━━━━━━━━━━\u001b[0m\u001b[37m\u001b[0m \u001b[1m2s\u001b[0m 2s/step\n",
      "The predicted class is: leaf spot\n"
     ]
    }
   ],
   "source": [
    "import cv2\n",
    "import numpy as np\n",
    "from keras.models import load_model\n",
    "\n",
    "# Function to preprocess the image for model prediction\n",
    "def preprocess_image(file_path):\n",
    "    gray = cv2.imread(file_path, cv2.IMREAD_GRAYSCALE)\n",
    "    if gray is None:\n",
    "        raise ValueError(f\"Image at path {file_path} could not be loaded.\")\n",
    "    \n",
    "    resized = cv2.resize(gray, (224, 224))\n",
    "    resized_rgb = np.stack((resized,)*3, axis=-1)\n",
    "    resized_rgb = resized_rgb / 255.0\n",
    "    return np.expand_dims(resized_rgb, axis=0)\n",
    "\n",
    "# Function to make predictions using an ensemble of models\n",
    "def ensemble_prediction(file_path, models):\n",
    "    # Preprocess the image\n",
    "    processed_image = preprocess_image(file_path)\n",
    "\n",
    "    # Collect predictions from each model\n",
    "    predictions = []\n",
    "    for model in models:\n",
    "        prediction = model.predict(processed_image)\n",
    "        predictions.append(prediction)\n",
    "\n",
    "    # Convert list of predictions to a numpy array for easier manipulation\n",
    "    predictions = np.array(predictions)\n",
    "\n",
    "    # Average the predictions across models\n",
    "    average_prediction = np.mean(predictions, axis=0)\n",
    "\n",
    "    # Get the predicted class index from the averaged predictions\n",
    "    predicted_class_index = np.argmax(average_prediction, axis=1)\n",
    "    return predicted_class_index\n",
    "\n",
    "# Class mapping for predicted indices\n",
    "class_mapping = ['healthy', 'leaf curl', 'leaf spot', 'whitefly', 'yellowish']\n",
    "\n",
    "# Load your trained models\n",
    "model_paths = ['../models/vgg/chilli.h5', \n",
    "               '../models/resnet/chilli.h5', \n",
    "               '../models/mixednet/chilli.h5',\n",
    "               '../models/efficient/chilli.h5']\n",
    "\n",
    "models = [load_model(model_path) for model_path in model_paths]\n",
    "\n",
    "# Example file path for the image to predict\n",
    "file_path = '../sample.jpg'\n",
    "\n",
    "# Make a prediction using the ensemble\n",
    "predicted_class_index = ensemble_prediction(file_path, models)\n",
    "\n",
    "# Map the index to the corresponding class\n",
    "predicted_class = class_mapping[predicted_class_index[0]]\n",
    "\n",
    "# Print the predicted class\n",
    "print(f'The predicted class is: {predicted_class}')"
   ]
  },
  {
   "cell_type": "code",
   "execution_count": null,
   "id": "78b485ba",
   "metadata": {},
   "outputs": [],
   "source": []
  }
 ],
 "metadata": {
  "kernelspec": {
   "display_name": "Python 3 (ipykernel)",
   "language": "python",
   "name": "python3"
  },
  "language_info": {
   "codemirror_mode": {
    "name": "ipython",
    "version": 3
   },
   "file_extension": ".py",
   "mimetype": "text/x-python",
   "name": "python",
   "nbconvert_exporter": "python",
   "pygments_lexer": "ipython3",
   "version": "3.11.6"
  }
 },
 "nbformat": 4,
 "nbformat_minor": 5
}
